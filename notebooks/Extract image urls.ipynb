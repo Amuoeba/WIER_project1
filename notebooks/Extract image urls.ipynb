{
 "cells": [
  {
   "cell_type": "code",
   "execution_count": 7,
   "metadata": {},
   "outputs": [],
   "source": [
    "import requests\n",
    "import bs4\n",
    "site = \"https://www.gov.si/\"\n",
    "res = requests.get(site)\n"
   ]
  },
  {
   "cell_type": "code",
   "execution_count": 11,
   "metadata": {},
   "outputs": [
    {
     "name": "stdout",
     "output_type": "stream",
     "text": [
      "/resources/themes/gov/images/RS_gov_si-logo.gif\n",
      "/assets/vladne-sluzbe/UKOM/gov.si/Fotografije/spletisca/E-uprava-GettyImages-992747452-hocus-focus__FillWzQ0MCwyOTIsIjhiMTU0Zjk1MTUiXQ.jpg\n",
      "/assets/vladne-sluzbe/UKOM/gov.si/Fotografije/spletisca/spot__FillWzQ0MCwyOTIsImMwMjRiNTRjNjMiXQ.jpg\n",
      "/assets/vladne-sluzbe/UKOM/gov.si/Fotografije/spletisca/edavki-mobilni__FillWzQ0MCwyOTIsImJlZjFhZDMzMjciXQ.jpg\n",
      "/assets/vladne-sluzbe/UKOM/gov.si/Fotografije/sodeluj/2cd0df73d1/GettyImages-647657344-xxmmxx__FillWzQ0MCwyOTIsIjJjZDBkZjczZDEiXQ.jpg\n",
      "/assets/vladne-sluzbe/UKOM/gov.si/Fotografije/sodeluj/a52572c516/GettyImages-166000471-republica__FillWzQ0MCwyOTIsImE1MjU3MmM1MTYiXQ.jpg\n",
      "/assets/vladne-sluzbe/UKOM/gov.si/Fotografije/sodeluj/bc0dfa4ae6/GettyImages-886945776-Astrakan-Images__FillWzQ0MCwyOTIsImJjMGRmYTRhZTYiXQ.jpg\n",
      "/assets/vladne-sluzbe/UKOM/gov.si/Fotografije/sodeluj/9523f669f7/GettyImages-136722192-kyoshino__FillWzQ0MCwyOTIsIjk1MjNmNjY5ZjciXQ.jpg\n"
     ]
    }
   ],
   "source": [
    "soup = bs4.BeautifulSoup(res.text, features=\"html.parser\")\n",
    "images = soup.findAll(\"img\")\n",
    "for im in images:\n",
    "    print(im[\"src\"])"
   ]
  },
  {
   "cell_type": "code",
   "execution_count": 22,
   "metadata": {},
   "outputs": [
    {
     "data": {
      "text/plain": [
       "{'src': '/resources/themes/gov/images/RS_gov_si-logo.gif',\n",
       " 'srcset': '\\n\\t\\t\\t\\t\\t\\t /resources/themes/gov/images/svg2png/RS_gov_si-logo.png 1x,\\n\\t\\t\\t\\t\\t\\t /resources/themes/gov/images/svg2png/RS_gov_si-logo2x.png 2x,\\n\\t\\t\\t\\t\\t\\t /resources/themes/gov/images/svg2png/RS_gov_si-logo4x.png 3x',\n",
       " 'class': ['logo'],\n",
       " 'alt': 'GOV.SI'}"
      ]
     },
     "execution_count": 22,
     "metadata": {},
     "output_type": "execute_result"
    }
   ],
   "source": [
    "images[0].attrs"
   ]
  },
  {
   "cell_type": "code",
   "execution_count": 14,
   "metadata": {},
   "outputs": [
    {
     "data": {
      "text/plain": [
       "('https', 'www.gov.si')"
      ]
     },
     "execution_count": 14,
     "metadata": {},
     "output_type": "execute_result"
    }
   ],
   "source": [
    "import urllib.parse as urlparse\n",
    "urlparse.urlparse(site)[:2]"
   ]
  }
 ],
 "metadata": {
  "kernelspec": {
   "display_name": "Python 3",
   "language": "python",
   "name": "python3"
  },
  "language_info": {
   "codemirror_mode": {
    "name": "ipython",
    "version": 3
   },
   "file_extension": ".py",
   "mimetype": "text/x-python",
   "name": "python",
   "nbconvert_exporter": "python",
   "pygments_lexer": "ipython3",
   "version": "3.6.10"
  }
 },
 "nbformat": 4,
 "nbformat_minor": 4
}
